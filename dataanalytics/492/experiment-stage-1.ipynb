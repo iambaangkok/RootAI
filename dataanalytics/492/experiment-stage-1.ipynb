{
 "cells": [
  {
   "cell_type": "code",
   "execution_count": 1,
   "outputs": [],
   "source": [
    "import os \n",
    "import pandas as pd\n",
    "\n",
    "data_dir = \"./data\"\n",
    "files = [f for f in os.listdir(data_dir)]"
   ],
   "metadata": {
    "collapsed": false,
    "ExecuteTime": {
     "end_time": "2024-03-01T07:19:40.560039900Z",
     "start_time": "2024-03-01T07:19:33.523628600Z"
    }
   },
   "id": "762ff0ef42992ed8"
  },
  {
   "cell_type": "code",
   "execution_count": 2,
   "outputs": [],
   "source": [
    "def calculateTop(res, n) :\n",
    "    return sorted(res, key=res.get, reverse=True)[:n]"
   ],
   "metadata": {
    "collapsed": false,
    "ExecuteTime": {
     "end_time": "2024-03-01T07:19:40.564956600Z",
     "start_time": "2024-03-01T07:19:40.562444700Z"
    }
   },
   "id": "ca93926ab0af7658"
  },
  {
   "cell_type": "code",
   "execution_count": 3,
   "outputs": [
    {
     "name": "stdout",
     "output_type": "stream",
     "text": [
      "Marquise Top 5\n",
      "1st: config-86-ma-100-2024-02-24-01-23-54.csv\n",
      "\t|_ win rate: 0.61\n",
      "\t|_ avg turn: 16.78688524590164\n",
      "2nd: config-76-ma-100-2024-02-23-13-31-14.csv\n",
      "\t|_ win rate: 0.55\n",
      "\t|_ avg turn: 15.418181818181818\n",
      "3rd: config-85-ma-100-2024-02-24-01-23-54.csv\n",
      "\t|_ win rate: 0.53\n",
      "\t|_ avg turn: 15.547169811320755\n",
      "4th: config-87-ma-100-2024-02-24-01-23-54.csv\n",
      "\t|_ win rate: 0.53\n",
      "\t|_ avg turn: 16.245283018867923\n",
      "5th: config-89-ma-100-2024-02-24-01-23-55.csv\n",
      "\t|_ win rate: 0.52\n",
      "\t|_ avg turn: 15.326923076923077\n",
      "\n",
      "Eyrie Top 5\n",
      "1st: config-184-ey-100-2024-02-26-15-48-41.csv\n",
      "\t|_ win rate: 0.81\n",
      "\t|_ avg turn: 14.518518518518519\n",
      "2nd: config-203-ey-100-2024-02-28-14-16-54.csv\n",
      "\t|_ win rate: 0.72\n",
      "\t|_ avg turn: 16.72222222222222\n",
      "3rd: config-194-ey-100-2024-02-26-15-48-42.csv\n",
      "\t|_ win rate: 0.71\n",
      "\t|_ avg turn: 15.690140845070422\n",
      "4th: config-212-ey-100-2024-02-28-14-16-54.csv\n",
      "\t|_ win rate: 0.71\n",
      "\t|_ avg turn: 16.676056338028168\n",
      "5th: config-202-ey-100-2024-02-28-14-16-54.csv\n",
      "\t|_ win rate: 0.71\n",
      "\t|_ avg turn: 16.802816901408452\n"
     ]
    }
   ],
   "source": [
    "ma_file = []\n",
    "ma_win_rate = []\n",
    "ey_file = []\n",
    "ey_win_rate = []\n",
    "\n",
    "\n",
    "for file_name in files:\n",
    "    df = pd.read_csv(data_dir + '/' + file_name)\n",
    "    group_by_winner_df = df.groupby(['winner'])['winner'].size().reset_index(name='round')\n",
    "    \n",
    "    if 'ma' in file_name:\n",
    "        total = sum(group_by_winner_df['round'])\n",
    "        if group_by_winner_df[group_by_winner_df['winner'] == 'MARQUISE'].empty:\n",
    "            win = 0\n",
    "        else:\n",
    "            win = group_by_winner_df[group_by_winner_df['winner'] == 'MARQUISE'].iloc[0]['round']\n",
    "        win_rate = win/total\n",
    "        \n",
    "        avg_turn = float(\"INF\")\n",
    "        if win > 0:\n",
    "            avg_turn = sum(df[df['winner'] == 'MARQUISE']['turn']) / len(df[df['winner'] == 'MARQUISE']['turn'])\n",
    "        \n",
    "        ma_win_rate.append((win_rate,-avg_turn))\n",
    "        ma_file.append(file_name)\n",
    "    else:\n",
    "        total = sum(group_by_winner_df['round'])\n",
    "        if group_by_winner_df[group_by_winner_df['winner'] == 'EYRIE'].empty:\n",
    "            win = 0\n",
    "        else:\n",
    "            win = group_by_winner_df[group_by_winner_df['winner'] == 'EYRIE'].iloc[0]['round']\n",
    "        win_rate = win/total\n",
    "        \n",
    "        avg_turn = float(\"INF\")\n",
    "        if win > 0:\n",
    "            avg_turn = sum(df[df['winner'] == 'EYRIE']['turn']) / len(df[df['winner'] == 'EYRIE']['turn'])\n",
    "        \n",
    "        ey_win_rate.append((win_rate,-avg_turn))\n",
    "        ey_file.append(file_name)\n",
    "\n",
    "# for i in range(len(ma_file)):\n",
    "#     print(ma_file[i] + \": \" + str(ma_win_rate[i]))\n",
    "\n",
    "# print(ma_win_rate[ma_file.index('config-86-ma-100-2024-02-24-01-23-54.csv')])\n",
    "\n",
    "ma_res = {ma_file[i]: ma_win_rate[i] for i in range(len(ma_file))}\n",
    "ey_res = {ey_file[i]: ey_win_rate[i] for i in range(len(ey_file))}\n",
    "\n",
    "print(\"Marquise Top 5\")\n",
    "for ind, top in enumerate(calculateTop(ma_res, 5)):\n",
    "    if ind == 0:\n",
    "        print(str(ind+1) + \"st: \" + top)\n",
    "    elif ind == 1:\n",
    "        print(str(ind+1) + \"nd: \" + top)\n",
    "    elif ind == 2:\n",
    "        print(str(ind+1) + \"rd: \" + top)\n",
    "    else:\n",
    "        print(str(ind+1) + \"th: \" + top)\n",
    "    stats = ma_win_rate[ma_file.index(top)]\n",
    "    print(\"\\t|_ win rate: \" + str(stats[0]))\n",
    "    print(\"\\t|_ avg turn: \" + str(-stats[1]))\n",
    "    \n",
    "print()\n",
    "\n",
    "print(\"Eyrie Top 5\")\n",
    "for ind, top in enumerate(calculateTop(ey_res, 5)):\n",
    "    if ind == 0:\n",
    "        print(str(ind+1) + \"st: \" + top)\n",
    "    elif ind == 1:\n",
    "        print(str(ind+1) + \"nd: \" + top)\n",
    "    elif ind == 2:\n",
    "        print(str(ind+1) + \"rd: \" + top)\n",
    "    else:\n",
    "        print(str(ind+1) + \"th: \" + top)\n",
    "    stats = ey_win_rate[ey_file.index(top)]\n",
    "    print(\"\\t|_ win rate: \" + str(stats[0]))\n",
    "    print(\"\\t|_ avg turn: \" + str(-stats[1]))\n"
   ],
   "metadata": {
    "collapsed": false,
    "ExecuteTime": {
     "end_time": "2024-03-01T07:19:41.274507Z",
     "start_time": "2024-03-01T07:19:40.575475500Z"
    }
   },
   "id": "b37214de87dee0c7"
  }
 ],
 "metadata": {
  "kernelspec": {
   "display_name": "Python 3",
   "language": "python",
   "name": "python3"
  },
  "language_info": {
   "codemirror_mode": {
    "name": "ipython",
    "version": 2
   },
   "file_extension": ".py",
   "mimetype": "text/x-python",
   "name": "python",
   "nbconvert_exporter": "python",
   "pygments_lexer": "ipython2",
   "version": "2.7.6"
  }
 },
 "nbformat": 4,
 "nbformat_minor": 5
}
