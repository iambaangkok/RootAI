{
 "cells": [
  {
   "cell_type": "code",
   "execution_count": 1,
   "outputs": [],
   "source": [
    "# filter corrupted result\n",
    "\n",
    "import os \n",
    "\n",
    "data_dir = \"./experiment\"\n",
    "files = [f for f in os.listdir(data_dir)]\n",
    "\n",
    "for filename in files:\n",
    "    with open(data_dir + \"/\" + filename, 'r') as fp:\n",
    "        for count, line in enumerate(fp):\n",
    "            pass\n",
    "    size = os.path.getsize(data_dir + \"/\" + filename)\n",
    "    if (count + 1) < 101:\n",
    "        os.remove(data_dir + \"/\" + filename)"
   ],
   "metadata": {
    "collapsed": false,
    "ExecuteTime": {
     "end_time": "2024-03-01T07:18:36.860282100Z",
     "start_time": "2024-03-01T07:18:36.742190400Z"
    }
   },
   "id": "af0516e885871a96"
  },
  {
   "cell_type": "code",
   "execution_count": 2,
   "id": "initial_id",
   "metadata": {
    "collapsed": true,
    "ExecuteTime": {
     "end_time": "2024-03-01T07:18:36.894711800Z",
     "start_time": "2024-03-01T07:18:36.861244900Z"
    }
   },
   "outputs": [],
   "source": [
    "# get latest result\n",
    "\n",
    "import os \n",
    "\n",
    "data_dir = \"./experiment\"\n",
    "files = [f for f in os.listdir(data_dir)]\n",
    "\n",
    "result_selected = {}\n",
    "files.reverse()\n",
    "\n",
    "for filename in files:\n",
    "    name = filename.split('-')\n",
    "    res_i = int(name[1])\n",
    "    \n",
    "    if res_i not in result_selected:\n",
    "        result_selected[res_i] = filename\n",
    "    else:\n",
    "        continue\n",
    "\n",
    "selected_files = result_selected.values()\n",
    "\n",
    "for filename in files:\n",
    "    if (filename not in selected_files):\n",
    "        os.remove(data_dir + \"/\" + filename)"
   ]
  },
  {
   "cell_type": "code",
   "execution_count": 3,
   "outputs": [
    {
     "name": "stdout",
     "output_type": "stream",
     "text": [
      "[107]\n"
     ]
    }
   ],
   "source": [
    "# check what config is missing\n",
    "\n",
    "import os \n",
    "\n",
    "data_dir = \"./experiment\"\n",
    "files = [f for f in os.listdir(data_dir)]\n",
    "\n",
    "configs = [i for i in range(216)]\n",
    "\n",
    "for filename in files:\n",
    "    name = filename.split('-')\n",
    "    res_i = int(name[1])\n",
    "    \n",
    "    if res_i in configs:\n",
    "        configs.remove(res_i)\n",
    "    else:\n",
    "        print(str(res_i) + \": duplicated\")\n",
    "\n",
    "print(configs)"
   ],
   "metadata": {
    "collapsed": false,
    "ExecuteTime": {
     "end_time": "2024-03-01T07:18:36.906986600Z",
     "start_time": "2024-03-01T07:18:36.897214100Z"
    }
   },
   "id": "dedc12e4b21732a8"
  }
 ],
 "metadata": {
  "kernelspec": {
   "display_name": "Python 3",
   "language": "python",
   "name": "python3"
  },
  "language_info": {
   "codemirror_mode": {
    "name": "ipython",
    "version": 2
   },
   "file_extension": ".py",
   "mimetype": "text/x-python",
   "name": "python",
   "nbconvert_exporter": "python",
   "pygments_lexer": "ipython2",
   "version": "2.7.6"
  }
 },
 "nbformat": 4,
 "nbformat_minor": 5
}
