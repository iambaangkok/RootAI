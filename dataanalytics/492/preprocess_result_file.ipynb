{
 "cells": [
  {
   "cell_type": "code",
   "execution_count": 5,
   "outputs": [],
   "source": [
    "# filter corrupted result\n",
    "\n",
    "import os\n",
    "\n",
    "data_dir = \"./data\"\n",
    "files = [f for f in os.listdir(data_dir)]\n",
    "\n",
    "for filename in files:\n",
    "    with open(data_dir + \"/\" + filename, 'r') as fp:\n",
    "        for count, line in enumerate(fp):\n",
    "            pass\n",
    "    size = os.path.getsize(data_dir + \"/\" + filename)\n",
    "    if (count + 1) < 101:\n",
    "        os.remove(data_dir + \"/\" + filename)"
   ],
   "metadata": {
    "collapsed": false,
    "ExecuteTime": {
     "end_time": "2024-03-28T20:14:38.713588900Z",
     "start_time": "2024-03-28T20:14:38.640477800Z"
    }
   },
   "id": "af0516e885871a96"
  },
  {
   "cell_type": "code",
   "execution_count": 6,
   "id": "initial_id",
   "metadata": {
    "collapsed": true,
    "ExecuteTime": {
     "end_time": "2024-03-28T20:14:38.755877100Z",
     "start_time": "2024-03-28T20:14:38.717635400Z"
    }
   },
   "outputs": [],
   "source": [
    "# get latest result\n",
    "\n",
    "import os\n",
    "\n",
    "data_dir = \"./data\"\n",
    "files = [f for f in os.listdir(data_dir)]\n",
    "\n",
    "result_selected = {}\n",
    "files.reverse()\n",
    "\n",
    "for filename in files:\n",
    "    name = filename.split('-')\n",
    "    res_i = name[1]\n",
    "\n",
    "    if res_i == 'final':\n",
    "        i = name[2]\n",
    "        res_i = res_i + \"_\" + i\n",
    "\n",
    "    if res_i not in result_selected:\n",
    "        result_selected[res_i] = filename\n",
    "    else:\n",
    "        continue\n",
    "\n",
    "selected_files = result_selected.values()\n",
    "\n",
    "for filename in files:\n",
    "    if filename not in selected_files:\n",
    "        os.remove(data_dir + \"/\" + filename)"
   ]
  },
  {
   "cell_type": "code",
   "execution_count": 7,
   "outputs": [
    {
     "name": "stdout",
     "output_type": "stream",
     "text": [
      "[]\n"
     ]
    }
   ],
   "source": [
    "# check what config is missing\n",
    "\n",
    "import os\n",
    "\n",
    "data_dir = \"./data\"\n",
    "files = [f for f in os.listdir(data_dir)]\n",
    "\n",
    "configs = [i for i in range(216)]\n",
    "\n",
    "for filename in files:\n",
    "    name = filename.split('-')\n",
    "    \n",
    "    # manually check phase 2's result file\n",
    "    if name[1] == 'final':\n",
    "        continue\n",
    "    \n",
    "    res_i = int(name[1])\n",
    "\n",
    "    if res_i in configs:\n",
    "        configs.remove(res_i)\n",
    "    else:\n",
    "        print(str(res_i) + \": duplicated\")\n",
    "\n",
    "print(configs)"
   ],
   "metadata": {
    "collapsed": false,
    "ExecuteTime": {
     "end_time": "2024-03-28T20:14:38.764028800Z",
     "start_time": "2024-03-28T20:14:38.757873400Z"
    }
   },
   "id": "dedc12e4b21732a8"
  }
 ],
 "metadata": {
  "kernelspec": {
   "display_name": "Python 3",
   "language": "python",
   "name": "python3"
  },
  "language_info": {
   "codemirror_mode": {
    "name": "ipython",
    "version": 2
   },
   "file_extension": ".py",
   "mimetype": "text/x-python",
   "name": "python",
   "nbconvert_exporter": "python",
   "pygments_lexer": "ipython2",
   "version": "2.7.6"
  }
 },
 "nbformat": 4,
 "nbformat_minor": 5
}
