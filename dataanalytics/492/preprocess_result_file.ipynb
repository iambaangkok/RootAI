{
 "cells": [
  {
   "cell_type": "code",
   "execution_count": 1,
   "outputs": [],
   "source": [
    "# filter corrupted result\n",
    "\n",
    "import os \n",
    "\n",
    "data_dir = \"./experiment\"\n",
    "files = [f for f in os.listdir(data_dir)]\n",
    "\n",
    "for filename in files:\n",
    "    with open(data_dir + \"/\" + filename, 'r') as fp:\n",
    "        for count, line in enumerate(fp):\n",
    "            pass\n",
    "    size = os.path.getsize(data_dir + \"/\" + filename)\n",
    "    if (count + 1) < 101:\n",
    "        os.remove(data_dir + \"/\" + filename)"
   ],
   "metadata": {
    "collapsed": false,
    "ExecuteTime": {
     "end_time": "2024-03-08T09:50:17.637928Z",
     "start_time": "2024-03-08T09:50:17.620122200Z"
    }
   },
   "id": "af0516e885871a96"
  },
  {
   "cell_type": "code",
   "execution_count": 2,
   "id": "initial_id",
   "metadata": {
    "collapsed": true,
    "ExecuteTime": {
     "end_time": "2024-03-08T09:50:17.686263400Z",
     "start_time": "2024-03-08T09:50:17.639925500Z"
    }
   },
   "outputs": [],
   "source": [
    "# get latest result\n",
    "\n",
    "import os \n",
    "\n",
    "data_dir = \"./experiment\"\n",
    "files = [f for f in os.listdir(data_dir)]\n",
    "\n",
    "result_selected = {}\n",
    "files.reverse()\n",
    "\n",
    "for filename in files:\n",
    "    name = filename.split('-')\n",
    "    res_i = name[1]\n",
    "    \n",
    "    if res_i == 'final':\n",
    "        i = name[2]\n",
    "        res_i = res_i + \"_\" + i\n",
    "    \n",
    "    if res_i not in result_selected:\n",
    "        result_selected[res_i] = filename\n",
    "    else:\n",
    "        continue\n",
    "\n",
    "selected_files = result_selected.values()\n",
    "\n",
    "for filename in files:\n",
    "    if filename not in selected_files:\n",
    "        os.remove(data_dir + \"/\" + filename)"
   ]
  },
  {
   "cell_type": "code",
   "execution_count": 3,
   "outputs": [
    {
     "ename": "ValueError",
     "evalue": "invalid literal for int() with base 10: 'final'",
     "output_type": "error",
     "traceback": [
      "\u001B[1;31m---------------------------------------------------------------------------\u001B[0m",
      "\u001B[1;31mValueError\u001B[0m                                Traceback (most recent call last)",
      "Cell \u001B[1;32mIn[3], line 12\u001B[0m\n\u001B[0;32m     10\u001B[0m \u001B[38;5;28;01mfor\u001B[39;00m filename \u001B[38;5;129;01min\u001B[39;00m files:\n\u001B[0;32m     11\u001B[0m     name \u001B[38;5;241m=\u001B[39m filename\u001B[38;5;241m.\u001B[39msplit(\u001B[38;5;124m'\u001B[39m\u001B[38;5;124m-\u001B[39m\u001B[38;5;124m'\u001B[39m)\n\u001B[1;32m---> 12\u001B[0m     res_i \u001B[38;5;241m=\u001B[39m \u001B[38;5;28;43mint\u001B[39;49m\u001B[43m(\u001B[49m\u001B[43mname\u001B[49m\u001B[43m[\u001B[49m\u001B[38;5;241;43m1\u001B[39;49m\u001B[43m]\u001B[49m\u001B[43m)\u001B[49m\n\u001B[0;32m     14\u001B[0m     \u001B[38;5;28;01mif\u001B[39;00m res_i \u001B[38;5;129;01min\u001B[39;00m configs:\n\u001B[0;32m     15\u001B[0m         configs\u001B[38;5;241m.\u001B[39mremove(res_i)\n",
      "\u001B[1;31mValueError\u001B[0m: invalid literal for int() with base 10: 'final'"
     ]
    }
   ],
   "source": [
    "# check what config is missing\n",
    "\n",
    "import os \n",
    "\n",
    "data_dir = \"./experiment\"\n",
    "files = [f for f in os.listdir(data_dir)]\n",
    "\n",
    "configs = [i for i in range(216)]\n",
    "\n",
    "for filename in files:\n",
    "    name = filename.split('-')\n",
    "    res_i = int(name[1])\n",
    "    \n",
    "    if res_i in configs:\n",
    "        configs.remove(res_i)\n",
    "    else:\n",
    "        print(str(res_i) + \": duplicated\")\n",
    "\n",
    "print(configs)"
   ],
   "metadata": {
    "collapsed": false,
    "ExecuteTime": {
     "end_time": "2024-03-08T09:50:18.404794Z",
     "start_time": "2024-03-08T09:50:17.674249800Z"
    }
   },
   "id": "dedc12e4b21732a8"
  }
 ],
 "metadata": {
  "kernelspec": {
   "display_name": "Python 3",
   "language": "python",
   "name": "python3"
  },
  "language_info": {
   "codemirror_mode": {
    "name": "ipython",
    "version": 2
   },
   "file_extension": ".py",
   "mimetype": "text/x-python",
   "name": "python",
   "nbconvert_exporter": "python",
   "pygments_lexer": "ipython2",
   "version": "2.7.6"
  }
 },
 "nbformat": 4,
 "nbformat_minor": 5
}
